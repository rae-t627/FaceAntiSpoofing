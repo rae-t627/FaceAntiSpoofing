{
 "cells": [
  {
   "cell_type": "code",
   "execution_count": 1,
   "metadata": {},
   "outputs": [],
   "source": [
    "import numpy as np\n",
    "import matplotlib.pyplot as plt\n",
    "import cv2\n",
    "import os"
   ]
  },
  {
   "cell_type": "markdown",
   "metadata": {},
   "source": [
    "### Using 'Normalized Face' folder from the NUAA Imposter Database"
   ]
  },
  {
   "cell_type": "markdown",
   "metadata": {},
   "source": [
    "#### Inputting the Dataset"
   ]
  },
  {
   "cell_type": "code",
   "execution_count": 2,
   "metadata": {},
   "outputs": [],
   "source": [
    "def load_images_from_folder(folder,l):\n",
    "    images = []\n",
    "    labels = []\n",
    "    for label in os.listdir(folder):\n",
    "        label_path = os.path.join(folder, label)\n",
    "\n",
    "        if os.path.isdir(label_path):\n",
    "\n",
    "            for filename in os.listdir(label_path):\n",
    "\n",
    "                img_path = os.path.join(label_path, filename)\n",
    "                if img_path.endswith(('.jpg', '.jpeg', '.png', '.bmp')):\n",
    "\n",
    "                    img = cv2.imread(img_path,cv2.IMREAD_GRAYSCALE)\n",
    "                    if img is not None:\n",
    "\n",
    "                        images.append(img)\n",
    "                        labels.append(l)\n",
    "\n",
    "    return images, labels"
   ]
  },
  {
   "cell_type": "code",
   "execution_count": 3,
   "metadata": {},
   "outputs": [],
   "source": [
    "# Original Faces(Client) with label 1\n",
    "\n",
    "path = r\"C:\\Users\\Kartik\\OneDrive - IIT Hyderabad\\Desktop\\Acad_IITH(6th Sem)\\IVP\\Dataset\\NUAA\\NormalizedFace\\ClientNormalized\"\n",
    "img_real, label_r = load_images_from_folder(path,1)\n",
    "\n",
    "# Spoof Faces with label -1\n",
    "path = r\"C:\\Users\\Kartik\\OneDrive - IIT Hyderabad\\Desktop\\Acad_IITH(6th Sem)\\IVP\\Dataset\\NUAA\\NormalizedFace\\ImposterNormalized\"\n",
    "img_spoof, label_s = load_images_from_folder(path,-1)\n",
    "\n",
    "image_real = np.array(img_real)\n",
    "label_real  = np.array(label_r)\n",
    "image_spoof = np.array(img_spoof)\n",
    "label_spoof  = np.array(label_s)"
   ]
  },
  {
   "cell_type": "markdown",
   "metadata": {},
   "source": [
    "#### Defining LBP"
   ]
  },
  {
   "cell_type": "code",
   "execution_count": 4,
   "metadata": {},
   "outputs": [],
   "source": [
    "from skimage import feature\n",
    "import numpy as np\n",
    "\n",
    "class LocalBinaryPatterns:\n",
    "    def __init__(self, numPoints, radius):\n",
    "        # store the number of points and radius\n",
    "        self.numPoints = numPoints\n",
    "        self.radius = radius\n",
    "        \n",
    "    def lbp_calculate(self, image):\n",
    "        # compute the Local Binary Pattern representation\n",
    "        # of the image, and then use the LBP representation\n",
    "        # to build the histogram of patterns\n",
    "        lbp_image = feature.local_binary_pattern(image, self.numPoints, self.radius, method=\"uniform\")\n",
    "        \n",
    "        lbp_r = np.asarray(np.round(lbp_image)).astype(np.uint8)\n",
    "        return lbp_r\n",
    "\n",
    "def plot_histogram(image, if_plot=1):\n",
    "    # Calculate histogram\n",
    "    hist = cv2.calcHist([image], [0], None, [256], [0, 256])\n",
    "\n",
    "    # Plot histogram\n",
    "    if if_plot==1:\n",
    "        plt.plot(hist)\n",
    "        plt.title('Histogram')\n",
    "        plt.xlabel('Pixel Intensity')\n",
    "        plt.ylabel('Frequency')\n",
    "        plt.show()\n",
    "        \n",
    "    return hist"
   ]
  },
  {
   "cell_type": "markdown",
   "metadata": {},
   "source": [
    "#### Region Marking for LBP"
   ]
  },
  {
   "cell_type": "code",
   "execution_count": 5,
   "metadata": {},
   "outputs": [],
   "source": [
    "def region(image):\n",
    "\n",
    "    x = 24\n",
    "    y = 4\n",
    "\n",
    "    #overlapping region  = 24*4 = 96\n",
    "    regions = []\n",
    "    regions.append(image[0:x,0:x])\n",
    "    regions.append(image[x-y:2*x-y,0:x])\n",
    "    regions.append(image[2*x-2*y:,0:x])\n",
    "    regions.append(image[0:x,x-y:2*x-y])\n",
    "    regions.append(image[x-y:2*x-y,x-y:2*x-y])\n",
    "    regions.append(image[2*x-2*y:,x-y:2*x-y])\n",
    "    regions.append(image[0:x,2*x-2*y:])\n",
    "    regions.append(image[x-y:2*x-y,2*x-2*y:])\n",
    "    regions.append(image[2*x-2*y:,2*x-2*y:])\n",
    "\n",
    "    regions = np.array(regions)\n",
    "    return regions\n",
    "\n",
    "# Defining the various LBP operators with varying radii and number of points under consideration\n",
    "\n",
    "LBP_1 = LocalBinaryPatterns(8,1)\n",
    "LBP_2 = LocalBinaryPatterns(8,2)\n",
    "LBP_3 = LocalBinaryPatterns(16,2)\n",
    "\n",
    "# We will be considering only the nonzero histogram features\n",
    "\n",
    "lbp_img_real_81 = []\n",
    "lbp_img_spoof_81 = []\n",
    "i=0\n",
    "\n",
    "for img in img_real:\n",
    "\n",
    "    i = i+1\n",
    "    lbp_img_81 = LBP_1.lbp_calculate(img)\n",
    "    regions = region(lbp_img_81)\n",
    "    features = []\n",
    "    for r in regions:\n",
    "\n",
    "        feature_histogram = plot_histogram(r,0)\n",
    "        features.append(feature_histogram[:10])\n",
    "\n",
    "# Adding the full image image properties\n",
    "        \n",
    "    lbp_img_82 = LBP_2.lbp_calculate(img)\n",
    "    feature_histogram = plot_histogram(lbp_img_82,0)\n",
    "    features.append(feature_histogram[:10])\n",
    "    \n",
    "    lbp_img_162 = LBP_3.lbp_calculate(img)\n",
    "    feature_histogram = plot_histogram(lbp_img_162,0)\n",
    "    features.append(feature_histogram[:10])\n",
    "    \n",
    "    features = (np.array(features)).reshape(110)\n",
    "\n",
    "    lbp_img_real_81.append(features)\n",
    "\n",
    "for img in img_spoof:\n",
    "\n",
    "    i = i+1\n",
    "    lbp_img = LBP_1.lbp_calculate(img)\n",
    "    regions = region(lbp_img)\n",
    "    features = []\n",
    "\n",
    "    for r in regions:\n",
    "\n",
    "        feature_histogram = plot_histogram(r,0)\n",
    "        features.append(feature_histogram[:10])\n",
    "\n",
    "    # Adding the full image image properties\n",
    "        \n",
    "    lbp_img_82 = LBP_2.lbp_calculate(img)\n",
    "    feature_histogram = plot_histogram(lbp_img_82,0)\n",
    "    features.append(feature_histogram[:10])\n",
    "    \n",
    "    lbp_img_162 = LBP_3.lbp_calculate(img)\n",
    "    feature_histogram = plot_histogram(lbp_img_162,0)\n",
    "    features.append(feature_histogram[:10])\n",
    "    \n",
    "    features = (np.array(features)).reshape(110)\n",
    "    \n",
    "    lbp_img_spoof_81.append(features)\n",
    "\n",
    "\n",
    "lbp_img_real_81 = np.array(lbp_img_real_81)\n",
    "lbp_img_spoof_81 = np.array(lbp_img_spoof_81)"
   ]
  },
  {
   "cell_type": "markdown",
   "metadata": {},
   "source": [
    "#### Train-Test Split"
   ]
  },
  {
   "cell_type": "code",
   "execution_count": 6,
   "metadata": {},
   "outputs": [],
   "source": [
    "from sklearn.model_selection import train_test_split\n",
    "\n",
    "# Concatenating the Dataset\n",
    "\n",
    "data_set = np.concatenate((lbp_img_spoof_81,lbp_img_real_81),axis=0)\n",
    "data_set_label = np.concatenate((label_real,label_spoof),axis=0)\n",
    "\n",
    "# Shuffling the dataset\n",
    "shuffle_index = np.random.permutation(len(data_set_label))\n",
    "dataset, d_labels = data_set[shuffle_index,:], data_set_label[shuffle_index]\n",
    "\n",
    "# Split the data into training and testing sets\n",
    "d_train, d_test, l_train, l_test = train_test_split(dataset, d_labels, test_size=0.2, random_state=42)"
   ]
  },
  {
   "cell_type": "markdown",
   "metadata": {},
   "source": [
    "#### SVM based Classifier"
   ]
  },
  {
   "cell_type": "code",
   "execution_count": 7,
   "metadata": {},
   "outputs": [
    {
     "data": {
      "text/html": [
       "<style>#sk-container-id-1 {color: black;}#sk-container-id-1 pre{padding: 0;}#sk-container-id-1 div.sk-toggleable {background-color: white;}#sk-container-id-1 label.sk-toggleable__label {cursor: pointer;display: block;width: 100%;margin-bottom: 0;padding: 0.3em;box-sizing: border-box;text-align: center;}#sk-container-id-1 label.sk-toggleable__label-arrow:before {content: \"▸\";float: left;margin-right: 0.25em;color: #696969;}#sk-container-id-1 label.sk-toggleable__label-arrow:hover:before {color: black;}#sk-container-id-1 div.sk-estimator:hover label.sk-toggleable__label-arrow:before {color: black;}#sk-container-id-1 div.sk-toggleable__content {max-height: 0;max-width: 0;overflow: hidden;text-align: left;background-color: #f0f8ff;}#sk-container-id-1 div.sk-toggleable__content pre {margin: 0.2em;color: black;border-radius: 0.25em;background-color: #f0f8ff;}#sk-container-id-1 input.sk-toggleable__control:checked~div.sk-toggleable__content {max-height: 200px;max-width: 100%;overflow: auto;}#sk-container-id-1 input.sk-toggleable__control:checked~label.sk-toggleable__label-arrow:before {content: \"▾\";}#sk-container-id-1 div.sk-estimator input.sk-toggleable__control:checked~label.sk-toggleable__label {background-color: #d4ebff;}#sk-container-id-1 div.sk-label input.sk-toggleable__control:checked~label.sk-toggleable__label {background-color: #d4ebff;}#sk-container-id-1 input.sk-hidden--visually {border: 0;clip: rect(1px 1px 1px 1px);clip: rect(1px, 1px, 1px, 1px);height: 1px;margin: -1px;overflow: hidden;padding: 0;position: absolute;width: 1px;}#sk-container-id-1 div.sk-estimator {font-family: monospace;background-color: #f0f8ff;border: 1px dotted black;border-radius: 0.25em;box-sizing: border-box;margin-bottom: 0.5em;}#sk-container-id-1 div.sk-estimator:hover {background-color: #d4ebff;}#sk-container-id-1 div.sk-parallel-item::after {content: \"\";width: 100%;border-bottom: 1px solid gray;flex-grow: 1;}#sk-container-id-1 div.sk-label:hover label.sk-toggleable__label {background-color: #d4ebff;}#sk-container-id-1 div.sk-serial::before {content: \"\";position: absolute;border-left: 1px solid gray;box-sizing: border-box;top: 0;bottom: 0;left: 50%;z-index: 0;}#sk-container-id-1 div.sk-serial {display: flex;flex-direction: column;align-items: center;background-color: white;padding-right: 0.2em;padding-left: 0.2em;position: relative;}#sk-container-id-1 div.sk-item {position: relative;z-index: 1;}#sk-container-id-1 div.sk-parallel {display: flex;align-items: stretch;justify-content: center;background-color: white;position: relative;}#sk-container-id-1 div.sk-item::before, #sk-container-id-1 div.sk-parallel-item::before {content: \"\";position: absolute;border-left: 1px solid gray;box-sizing: border-box;top: 0;bottom: 0;left: 50%;z-index: -1;}#sk-container-id-1 div.sk-parallel-item {display: flex;flex-direction: column;z-index: 1;position: relative;background-color: white;}#sk-container-id-1 div.sk-parallel-item:first-child::after {align-self: flex-end;width: 50%;}#sk-container-id-1 div.sk-parallel-item:last-child::after {align-self: flex-start;width: 50%;}#sk-container-id-1 div.sk-parallel-item:only-child::after {width: 0;}#sk-container-id-1 div.sk-dashed-wrapped {border: 1px dashed gray;margin: 0 0.4em 0.5em 0.4em;box-sizing: border-box;padding-bottom: 0.4em;background-color: white;}#sk-container-id-1 div.sk-label label {font-family: monospace;font-weight: bold;display: inline-block;line-height: 1.2em;}#sk-container-id-1 div.sk-label-container {text-align: center;}#sk-container-id-1 div.sk-container {/* jupyter's `normalize.less` sets `[hidden] { display: none; }` but bootstrap.min.css set `[hidden] { display: none !important; }` so we also need the `!important` here to be able to override the default hidden behavior on the sphinx rendered scikit-learn.org. See: https://github.com/scikit-learn/scikit-learn/issues/21755 */display: inline-block !important;position: relative;}#sk-container-id-1 div.sk-text-repr-fallback {display: none;}</style><div id=\"sk-container-id-1\" class=\"sk-top-container\"><div class=\"sk-text-repr-fallback\"><pre>SVC()</pre><b>In a Jupyter environment, please rerun this cell to show the HTML representation or trust the notebook. <br />On GitHub, the HTML representation is unable to render, please try loading this page with nbviewer.org.</b></div><div class=\"sk-container\" hidden><div class=\"sk-item\"><div class=\"sk-estimator sk-toggleable\"><input class=\"sk-toggleable__control sk-hidden--visually\" id=\"sk-estimator-id-1\" type=\"checkbox\" checked><label for=\"sk-estimator-id-1\" class=\"sk-toggleable__label sk-toggleable__label-arrow\">SVC</label><div class=\"sk-toggleable__content\"><pre>SVC()</pre></div></div></div></div></div>"
      ],
      "text/plain": [
       "SVC()"
      ]
     },
     "execution_count": 7,
     "metadata": {},
     "output_type": "execute_result"
    }
   ],
   "source": [
    "from sklearn.svm import SVC\n",
    "from sklearn.metrics import accuracy_score\n",
    "\n",
    "# Create SVM classifier with RBF kernel\n",
    "svm_classifier = SVC(kernel='rbf', gamma='scale')\n",
    "\n",
    "# Train the classifier on the training data\n",
    "svm_classifier.fit(d_train,l_train)"
   ]
  },
  {
   "cell_type": "markdown",
   "metadata": {},
   "source": [
    "#### Testing the SVM"
   ]
  },
  {
   "cell_type": "code",
   "execution_count": 8,
   "metadata": {},
   "outputs": [
    {
     "name": "stdout",
     "output_type": "stream",
     "text": [
      "Accuracy: 0.9552120491478399\n",
      "Confusion Matrix:\n",
      "[[1410   88]\n",
      " [  25 1000]]\n",
      "Error Rate: 0.04478795085216014\n"
     ]
    },
    {
     "data": {
      "image/png": "[encoded data removed]",
      "text/plain": [
       "<Figure size 640x480 with 1 Axes>"
      ]
     },
     "metadata": {},
     "output_type": "display_data"
    },
    {
     "name": "stdout",
     "output_type": "stream",
     "text": [
      "AUC: 0.9905421863297404\n",
      "Precision: 0.9191176470588235\n",
      "False Acceptance Rate: 0.08088235294117647\n",
      "False Fake  Rate: 0.08088235294117647\n",
      "HTER: 0.04915197786431646\n"
     ]
    }
   ],
   "source": [
    "from sklearn.metrics import accuracy_score, confusion_matrix, roc_curve, precision_score, roc_auc_score\n",
    "\n",
    "# Make predictions on the testing data\n",
    "l_pred = svm_classifier.predict(d_test)\n",
    "\n",
    "# Calculate accuracy\n",
    "accuracy = accuracy_score(l_test, l_pred)\n",
    "print(\"Accuracy:\", accuracy)\n",
    "\n",
    "# Confusion Matrix\n",
    "conf_matrix = confusion_matrix(l_test, l_pred)\n",
    "print(\"Confusion Matrix:\")\n",
    "print(conf_matrix)\n",
    "\n",
    "# Error Rate\n",
    "error_rate = 1 - accuracy\n",
    "print(\"Error Rate:\", error_rate)\n",
    "\n",
    "# ROC Curve\n",
    "y_scores = svm_classifier.decision_function(d_test)\n",
    "fpr, tpr, thresholds = roc_curve(l_test, y_scores)\n",
    "plt.plot(fpr, tpr, label='ROC Curve')\n",
    "plt.xlabel('False Positive Rate')\n",
    "plt.ylabel('True Positive Rate')\n",
    "plt.title('ROC Curve')\n",
    "plt.legend()\n",
    "plt.show()\n",
    "\n",
    "# Area under ROC Curve (AUC)\n",
    "auc = roc_auc_score(l_test, y_scores)\n",
    "print(\"AUC:\", auc)\n",
    "\n",
    "# Precision\n",
    "precision = precision_score(l_test, l_pred)\n",
    "print(\"Precision:\", precision)\n",
    "\n",
    "# Calculate False Acceptance Rate (FAR)\n",
    "false_acceptance_rate = conf_matrix[0, 1] / (conf_matrix[0, 1] + conf_matrix[1, 1])\n",
    "print(\"False Acceptance Rate:\", false_acceptance_rate)\n",
    "\n",
    "# Calculate False Fake Rate (FAR)\n",
    "false_fake_rate = conf_matrix[1, 0] / (conf_matrix[1, 0] + conf_matrix[0, 0])\n",
    "print(\"False Fake  Rate:\", false_acceptance_rate)\n",
    "\n",
    "# Calculate Half Total Error Rate- HTER\n",
    "HTER = (false_acceptance_rate + false_fake_rate)/2\n",
    "print(\"HTER:\", HTER)"
   ]
  },
  {
   "cell_type": "markdown",
   "metadata": {},
   "source": [
    "#### Quadratic discriminant Analysis(QDA)"
   ]
  },
  {
   "cell_type": "code",
   "execution_count": 9,
   "metadata": {},
   "outputs": [
    {
     "name": "stdout",
     "output_type": "stream",
     "text": [
      "Accuracy: 0.6603250099088387\n",
      "Confusion Matrix:\n",
      "[[1473   25]\n",
      " [ 832  193]]\n",
      "Error Rate: 0.3396749900911613\n"
     ]
    },
    {
     "name": "stderr",
     "output_type": "stream",
     "text": [
      "c:\\Users\\Kartik\\AppData\\Local\\Programs\\Python\\Python310\\lib\\site-packages\\sklearn\\discriminant_analysis.py:935: UserWarning: Variables are collinear\n",
      "  warnings.warn(\"Variables are collinear\")\n"
     ]
    },
    {
     "data": {
      "image/png": "[encoded data removed]",
      "text/plain": [
       "<Figure size 640x480 with 1 Axes>"
      ]
     },
     "metadata": {},
     "output_type": "display_data"
    },
    {
     "name": "stdout",
     "output_type": "stream",
     "text": [
      "AUC: 0.9905421863297404\n",
      "Precision: 0.8853211009174312\n",
      "False Acceptance Rate: 0.11467889908256881\n",
      "False Fake  Rate: 0.11467889908256881\n",
      "HTER: 0.2378166729686163\n"
     ]
    }
   ],
   "source": [
    "from sklearn.discriminant_analysis import QuadraticDiscriminantAnalysis\n",
    "from sklearn.metrics import accuracy_score, confusion_matrix, roc_curve, precision_score, roc_auc_score\n",
    "\n",
    "qda = QuadraticDiscriminantAnalysis()\n",
    "qda.fit(d_train, l_train)\n",
    "\n",
    "l_pred = qda.predict(d_test)\n",
    "\n",
    "# Calculate accuracy\n",
    "accuracy = accuracy_score(l_test, l_pred)\n",
    "print(\"Accuracy:\", accuracy)\n",
    "\n",
    "# Confusion Matrix\n",
    "conf_matrix = confusion_matrix(l_test, l_pred)\n",
    "print(\"Confusion Matrix:\")\n",
    "print(conf_matrix)\n",
    "\n",
    "# Error Rate\n",
    "error_rate = 1 - accuracy\n",
    "print(\"Error Rate:\", error_rate)\n",
    "\n",
    "# ROC Curve\n",
    "y_scores = svm_classifier.decision_function(d_test)\n",
    "fpr, tpr, thresholds = roc_curve(l_test, y_scores)\n",
    "plt.plot(fpr, tpr, label='ROC Curve')\n",
    "plt.xlabel('False Positive Rate')\n",
    "plt.ylabel('True Positive Rate')\n",
    "plt.title('ROC Curve')\n",
    "plt.legend()\n",
    "plt.show()\n",
    "\n",
    "# Area under ROC Curve (AUC)\n",
    "auc = roc_auc_score(l_test, y_scores)\n",
    "print(\"AUC:\", auc)\n",
    "\n",
    "# Precision\n",
    "precision = precision_score(l_test, l_pred)\n",
    "print(\"Precision:\", precision)\n",
    "\n",
    "# Calculate False Acceptance Rate (FAR)\n",
    "false_acceptance_rate = conf_matrix[0, 1] / (conf_matrix[0, 1] + conf_matrix[1, 1])\n",
    "print(\"False Acceptance Rate:\", false_acceptance_rate)\n",
    "\n",
    "# Calculate False Fake Rate (FAR)\n",
    "false_fake_rate = conf_matrix[1, 0] / (conf_matrix[1, 0] + conf_matrix[0, 0])\n",
    "print(\"False Fake  Rate:\", false_acceptance_rate)\n",
    "\n",
    "# Calculate Half Total Error Rate- HTER\n",
    "HTER = (false_acceptance_rate + false_fake_rate)/2\n",
    "print(\"HTER:\", HTER)"
   ]
  },
  {
   "cell_type": "markdown",
   "metadata": {},
   "source": [
    "#### Linear Discriminant Analysis"
   ]
  },
  {
   "cell_type": "code",
   "execution_count": 10,
   "metadata": {},
   "outputs": [
    {
     "name": "stdout",
     "output_type": "stream",
     "text": [
      "Accuracy: 0.9595719381688466\n",
      "Confusion Matrix:\n",
      "[[1438   60]\n",
      " [  42  983]]\n",
      "Error Rate: 0.04042806183115344\n"
     ]
    },
    {
     "data": {
      "image/png": "[encoded data removed]",
      "text/plain": [
       "<Figure size 640x480 with 1 Axes>"
      ]
     },
     "metadata": {},
     "output_type": "display_data"
    },
    {
     "name": "stdout",
     "output_type": "stream",
     "text": [
      "AUC: 0.9934657592236804\n",
      "Precision: 0.9424736337488016\n",
      "False Acceptance Rate: 0.05752636625119847\n",
      "False Fake  Rate: 0.05752636625119847\n",
      "HTER: 0.04295237231478842\n"
     ]
    }
   ],
   "source": [
    "from sklearn.discriminant_analysis import LinearDiscriminantAnalysis\n",
    "from sklearn.metrics import accuracy_score, confusion_matrix, roc_curve, precision_score, roc_auc_score\n",
    "\n",
    "lda = LinearDiscriminantAnalysis()\n",
    "lda.fit(d_train, l_train)\n",
    "\n",
    "l_pred = lda.predict(d_test)\n",
    "\n",
    "# Calculate accuracy\n",
    "accuracy = accuracy_score(l_test, l_pred)\n",
    "print(\"Accuracy:\", accuracy)\n",
    "\n",
    "# Confusion Matrix\n",
    "conf_matrix = confusion_matrix(l_test, l_pred)\n",
    "print(\"Confusion Matrix:\")\n",
    "print(conf_matrix)\n",
    "\n",
    "# Error Rate\n",
    "error_rate = 1 - accuracy\n",
    "print(\"Error Rate:\", error_rate)\n",
    "\n",
    "# ROC Curve\n",
    "y_scores = lda.decision_function(d_test)\n",
    "fpr, tpr, thresholds = roc_curve(l_test, y_scores)\n",
    "plt.plot(fpr, tpr, label='ROC Curve')\n",
    "plt.xlabel('False Positive Rate')\n",
    "plt.ylabel('True Positive Rate')\n",
    "plt.title('ROC Curve')\n",
    "plt.legend()\n",
    "plt.show()\n",
    "\n",
    "# Area under ROC Curve (AUC)\n",
    "auc = roc_auc_score(l_test, y_scores)\n",
    "print(\"AUC:\", auc)\n",
    "\n",
    "# Precision\n",
    "precision = precision_score(l_test, l_pred)\n",
    "print(\"Precision:\", precision)\n",
    "\n",
    "# Calculate False Acceptance Rate (FAR)\n",
    "false_acceptance_rate = conf_matrix[0, 1] / (conf_matrix[0, 1] + conf_matrix[1, 1])\n",
    "print(\"False Acceptance Rate:\", false_acceptance_rate)\n",
    "\n",
    "# Calculate False Fake Rate (FAR)\n",
    "false_fake_rate = conf_matrix[1, 0] / (conf_matrix[1, 0] + conf_matrix[0, 0])\n",
    "print(\"False Fake  Rate:\", false_acceptance_rate)\n",
    "\n",
    "# Calculate Half Total Error Rate- HTER\n",
    "HTER = (false_acceptance_rate + false_fake_rate)/2\n",
    "print(\"HTER:\", HTER)"
   ]
  }
 ],
 "metadata": {
  "kernelspec": {
   "display_name": "Python 3",
   "language": "python",
   "name": "python3"
  },
  "language_info": {
   "codemirror_mode": {
    "name": "ipython",
    "version": 3
   },
   "file_extension": ".py",
   "mimetype": "text/x-python",
   "name": "python",
   "nbconvert_exporter": "python",
   "pygments_lexer": "ipython3",
   "version": "3.10.0"
  }
 },
 "nbformat": 4,
 "nbformat_minor": 2
}
